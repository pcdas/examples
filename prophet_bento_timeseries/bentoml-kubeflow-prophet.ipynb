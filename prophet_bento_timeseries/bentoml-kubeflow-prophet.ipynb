{
 "cells": [
  {
   "cell_type": "markdown",
   "metadata": {},
   "source": [
    "# Time Series with BentoML and Prophet\n",
    "\n",
    "This notebook uses `BentoML` and `Kubeflow` to build, train and boot an api powered by a `Prophet` time series model. \n",
    "\n",
    "The below notebook focuses on building and serving a model using:\n",
    "- [BentoML](https://github.com/bentoml/BentoML)\n",
    "- Kubeflow [Fairing](https://www.kubeflow.org/docs/fairing/fairing-overview/) and [KFServing](https://github.com/kubeflow/kfserving)\n",
    "- [Prophet](https://facebook.github.io/prophet/)\n",
    "\n",
    "### Covid19 Data\n",
    "\n",
    "The notebook uses the [Covid19 Kaggle locality infection data](https://www.kaggle.com/sudalairajkumar/novel-corona-virus-2019-dataset#covid_19_data.csv) as our sample data. The notebook uses my home town `New York` as the locality."
   ]
  },
  {
   "cell_type": "code",
   "execution_count": 1,
   "metadata": {},
   "outputs": [],
   "source": [
    "%%capture\n",
    "\n",
    "!pip install pandas sklearn auto-sklearn kubeflow-fairing grpcio kubeflow.metadata bentoml plotly fbprophet"
   ]
  },
  {
   "cell_type": "code",
   "execution_count": 2,
   "metadata": {},
   "outputs": [],
   "source": [
    "import uuid\n",
    "from importlib import reload\n",
    "import grpc\n",
    "from kubeflow import fairing\n",
    "from kubeflow.fairing import constants\n",
    "import os\n",
    "import pandas as pd\n",
    "import logging\n",
    "\n",
    "logging.basicConfig(level=logging.WARN)\n",
    "logger = logging.getLogger(__name__)"
   ]
  },
  {
   "cell_type": "markdown",
   "metadata": {},
   "source": [
    "# Config\n",
    "\n",
    "The values below will be used throughout this notebook, make sure to adjust these values to match your registry and namespace."
   ]
  },
  {
   "cell_type": "code",
   "execution_count": 3,
   "metadata": {},
   "outputs": [],
   "source": [
    "# The docker registry to store images in\n",
    "DOCKER_REGISTRY = \"iancoffey\"\n",
    "# The k8s namespace to run the experiment in\n",
    "k8s_namespace = \"default\"\n",
    "# Use local bentoml storage\n",
    "!bentoml config set yatai_service.url=\"\""
   ]
  },
  {
   "cell_type": "markdown",
   "metadata": {},
   "source": [
    "# Minio\n",
    "\n",
    "This notebook will use Minio as the development context storage for `Kubeflow Fairing`, but any of the supported blob storage (s3, gcp, etc) will work.\n",
    "\n",
    "To install Minio, apply the provided Minio manifest into the provided namespace.\n",
    "\n",
    "`kubectl apply -f ./manifests/minio -n $k8s_namespace`\n",
    "\n",
    "We will use the kubernetes sdk to determine the endpoints ip address and then build our `MinioContextSource`."
   ]
  },
  {
   "cell_type": "code",
   "execution_count": 4,
   "metadata": {},
   "outputs": [],
   "source": [
    "from kubernetes import utils as k8s_utils\n",
    "from kubernetes import client as k8s_client\n",
    "from kubernetes import config as k8s_config\n",
    "from kubeflow.fairing.utils import is_running_in_k8s\n",
    "\n",
    "from kubeflow.fairing.cloud.k8s import MinioUploader\n",
    "from kubeflow.fairing.builders.cluster.minio_context import MinioContextSource\n",
    "\n",
    "if is_running_in_k8s():\n",
    "    k8s_config.load_incluster_config()\n",
    "else:\n",
    "    k8s_config.load_kube_config()\n",
    "\n",
    "api_client = k8s_client.CoreV1Api()\n",
    "minio_service_endpoint = api_client.read_namespaced_service(name='minio-service', namespace='default').spec.cluster_ip"
   ]
  },
  {
   "cell_type": "code",
   "execution_count": 5,
   "metadata": {},
   "outputs": [
    {
     "data": {
      "text/plain": [
       "'http://10.152.183.6:9000'"
      ]
     },
     "execution_count": 5,
     "metadata": {},
     "output_type": "execute_result"
    }
   ],
   "source": [
    "minio_endpoint = \"http://\"+minio_service_endpoint+\":9000\"\n",
    "minio_username = \"minio\"\n",
    "minio_key = \"minio123\"\n",
    "minio_region = \"us-east-1\"\n",
    "\n",
    "minio_uploader = MinioUploader(endpoint_url=minio_endpoint, minio_secret=minio_username, minio_secret_key=minio_key, region_name=minio_region)\n",
    "minio_context_source = MinioContextSource(endpoint_url=minio_endpoint, minio_secret=minio_username, minio_secret_key=minio_key, region_name=minio_region)\n",
    "minio_endpoint"
   ]
  },
  {
   "cell_type": "markdown",
   "metadata": {},
   "source": [
    "# Start: Preparing the Dataset\n",
    "\n",
    "\n",
    "To train our data, we need to split the data into train and test datasets as normal. We cant use the normal `train_test_split` function due to this being timeseries data, so we will have to define our own means of splitting the data by date."
   ]
  },
  {
   "cell_type": "code",
   "execution_count": 6,
   "metadata": {},
   "outputs": [],
   "source": [
    "# fairing:include-cell\n",
    "data_path=\"covid_19_data.csv\"\n",
    "dframe = pd.read_csv(data_path, sep=',')"
   ]
  },
  {
   "cell_type": "code",
   "execution_count": 7,
   "metadata": {},
   "outputs": [
    {
     "data": {
      "text/html": [
       "<div>\n",
       "<style scoped>\n",
       "    .dataframe tbody tr th:only-of-type {\n",
       "        vertical-align: middle;\n",
       "    }\n",
       "\n",
       "    .dataframe tbody tr th {\n",
       "        vertical-align: top;\n",
       "    }\n",
       "\n",
       "    .dataframe thead th {\n",
       "        text-align: right;\n",
       "    }\n",
       "</style>\n",
       "<table border=\"1\" class=\"dataframe\">\n",
       "  <thead>\n",
       "    <tr style=\"text-align: right;\">\n",
       "      <th></th>\n",
       "      <th>y</th>\n",
       "      <th>ds</th>\n",
       "    </tr>\n",
       "  </thead>\n",
       "  <tbody>\n",
       "    <tr>\n",
       "      <th>4549</th>\n",
       "      <td>173.0</td>\n",
       "      <td>2020-03-10</td>\n",
       "    </tr>\n",
       "    <tr>\n",
       "      <th>4755</th>\n",
       "      <td>220.0</td>\n",
       "      <td>2020-03-11</td>\n",
       "    </tr>\n",
       "    <tr>\n",
       "      <th>4964</th>\n",
       "      <td>328.0</td>\n",
       "      <td>2020-03-12</td>\n",
       "    </tr>\n",
       "    <tr>\n",
       "      <th>5356</th>\n",
       "      <td>421.0</td>\n",
       "      <td>2020-03-13</td>\n",
       "    </tr>\n",
       "    <tr>\n",
       "      <th>5411</th>\n",
       "      <td>525.0</td>\n",
       "      <td>2020-03-14</td>\n",
       "    </tr>\n",
       "  </tbody>\n",
       "</table>\n",
       "</div>"
      ],
      "text/plain": [
       "          y         ds\n",
       "4549  173.0 2020-03-10\n",
       "4755  220.0 2020-03-11\n",
       "4964  328.0 2020-03-12\n",
       "5356  421.0 2020-03-13\n",
       "5411  525.0 2020-03-14"
      ]
     },
     "execution_count": 7,
     "metadata": {},
     "output_type": "execute_result"
    }
   ],
   "source": [
    "cols_of_interest = ['Confirmed', 'Province/State', 'ObservationDate']\n",
    "\n",
    "dframe['ObservationDate'] = pd.to_datetime(dframe['ObservationDate'])\n",
    "dframe.sort_index(inplace=True)\n",
    "\n",
    "trimmed_dframe=dframe[cols_of_interest]\n",
    "trimmed_dframe=trimmed_dframe.dropna()\n",
    "\n",
    "# Note the copy() here - else we would be working on a reference\n",
    "state_data = trimmed_dframe.loc[trimmed_dframe['Province/State'] == 'New York'].copy()\n",
    "state_data = state_data.drop('Province/State', axis=1).sort_index()\n",
    "\n",
    "state_data.rename(columns={'Confirmed': 'y', 'ObservationDate': 'ds'}, inplace=True)\n",
    "\n",
    "state_data.head()"
   ]
  },
  {
   "cell_type": "code",
   "execution_count": 8,
   "metadata": {},
   "outputs": [
    {
     "data": {
      "image/png": "[encoded data removed]",
      "text/plain": [
       "<Figure size 1080x360 with 1 Axes>"
      ]
     },
     "metadata": {
      "needs_background": "light"
     },
     "output_type": "display_data"
    }
   ],
   "source": [
    "color_pal = [\"#F8766D\", \"#D39200\", \"#93AA00\",\n",
    "             \"#00BA38\", \"#00C19F\", \"#00B9E3\",\n",
    "             \"#619CFF\", \"#DB72FB\"]\n",
    "\n",
    "\n",
    "_ = state_data.plot(x ='ds', y='y', kind='scatter', figsize=(15,5), title=\"Raw Covid19 Dataset\")"
   ]
  },
  {
   "cell_type": "code",
   "execution_count": 9,
   "metadata": {},
   "outputs": [
    {
     "data": {
      "text/plain": [
       "93"
      ]
     },
     "execution_count": 9,
     "metadata": {},
     "output_type": "execute_result"
    }
   ],
   "source": [
    "split_date = \"2020-05-15\"\n",
    "\n",
    "train_data = state_data[state_data['ds'] <= split_date].copy()\n",
    "test_data = state_data[state_data['ds'] >  split_date].copy()\n",
    "\n",
    "len(state_data)"
   ]
  },
  {
   "cell_type": "markdown",
   "metadata": {},
   "source": [
    "# Model Training\n",
    "\n",
    "Now that we have gathered and transformed our original covid19 timeseries data, we can create a new Prophet model and fit our training data.\n",
    "\n",
    "Then, we can use [make_future_dataframe](https://rdrr.io/cran/prophet/man/make_future_dataframe.html) to create a dataframe to contain our future timeseries and predictions. We pass `periods` as 10 to ensure we have 10 days predicted."
   ]
  },
  {
   "cell_type": "code",
   "execution_count": 10,
   "metadata": {},
   "outputs": [
    {
     "name": "stderr",
     "output_type": "stream",
     "text": [
      "[I 200626 12:49:35 utils:141] NumExpr defaulting to 2 threads.\n",
      "[I 200626 12:49:35 forecaster:919] Disabling yearly seasonality. Run prophet with yearly_seasonality=True to override this.\n",
      "[I 200626 12:49:35 forecaster:919] Disabling daily seasonality. Run prophet with daily_seasonality=True to override this.\n"
     ]
    },
    {
     "data": {
      "text/html": [
       "<div>\n",
       "<style scoped>\n",
       "    .dataframe tbody tr th:only-of-type {\n",
       "        vertical-align: middle;\n",
       "    }\n",
       "\n",
       "    .dataframe tbody tr th {\n",
       "        vertical-align: top;\n",
       "    }\n",
       "\n",
       "    .dataframe thead th {\n",
       "        text-align: right;\n",
       "    }\n",
       "</style>\n",
       "<table border=\"1\" class=\"dataframe\">\n",
       "  <thead>\n",
       "    <tr style=\"text-align: right;\">\n",
       "      <th></th>\n",
       "      <th>ds</th>\n",
       "    </tr>\n",
       "  </thead>\n",
       "  <tbody>\n",
       "    <tr>\n",
       "      <th>72</th>\n",
       "      <td>2020-05-21</td>\n",
       "    </tr>\n",
       "    <tr>\n",
       "      <th>73</th>\n",
       "      <td>2020-05-22</td>\n",
       "    </tr>\n",
       "    <tr>\n",
       "      <th>74</th>\n",
       "      <td>2020-05-23</td>\n",
       "    </tr>\n",
       "    <tr>\n",
       "      <th>75</th>\n",
       "      <td>2020-05-24</td>\n",
       "    </tr>\n",
       "    <tr>\n",
       "      <th>76</th>\n",
       "      <td>2020-05-25</td>\n",
       "    </tr>\n",
       "  </tbody>\n",
       "</table>\n",
       "</div>"
      ],
      "text/plain": [
       "           ds\n",
       "72 2020-05-21\n",
       "73 2020-05-22\n",
       "74 2020-05-23\n",
       "75 2020-05-24\n",
       "76 2020-05-25"
      ]
     },
     "execution_count": 10,
     "metadata": {},
     "output_type": "execute_result"
    }
   ],
   "source": [
    "# Python\n",
    "import pandas as pd\n",
    "from fbprophet import Prophet\n",
    "\n",
    "m = Prophet()\n",
    "m.fit(train_data)\n",
    "future = m.make_future_dataframe(periods=10)\n",
    "future.tail()"
   ]
  },
  {
   "cell_type": "markdown",
   "metadata": {},
   "source": [
    "# Prediction\n",
    "\n",
    "We can use our new model to forcast our future timeseries and plot the results."
   ]
  },
  {
   "cell_type": "code",
   "execution_count": 11,
   "metadata": {},
   "outputs": [
    {
     "name": "stdout",
     "output_type": "stream",
     "text": [
      "72    362470.476200\n",
      "73    365496.015175\n",
      "74    369703.173415\n",
      "75    372333.226614\n",
      "76    374064.903150\n",
      "Name: yhat, dtype: float64\n"
     ]
    }
   ],
   "source": [
    "import numpy as np\n",
    "\n",
    "forecast = m.predict(future)\n",
    "print(forecast['yhat'].tail())"
   ]
  },
  {
   "cell_type": "code",
   "execution_count": 12,
   "metadata": {},
   "outputs": [
    {
     "data": {
      "image/png": "[encoded data removed]",
      "text/plain": [
       "<Figure size 1080x720 with 1 Axes>"
      ]
     },
     "metadata": {},
     "output_type": "display_data"
    }
   ],
   "source": [
    "fig1 = m.plot(forecast, figsize = (15, 10))"
   ]
  },
  {
   "cell_type": "code",
   "execution_count": 14,
   "metadata": {},
   "outputs": [
    {
     "name": "stdout",
     "output_type": "stream",
     "text": [
      "additive_terms\n",
      "additive_terms_lower\n",
      "additive_terms_upper\n",
      "ds\n",
      "multiplicative_terms\n",
      "multiplicative_terms_lower\n",
      "multiplicative_terms_upper\n",
      "trend\n",
      "trend_lower\n",
      "trend_upper\n",
      "weekly\n",
      "weekly_lower\n",
      "weekly_upper\n",
      "yhat\n",
      "yhat_lower\n",
      "yhat_upper\n"
     ]
    }
   ],
   "source": [
    "for c in forecast.columns.sort_values():\n",
    "    print(c)"
   ]
  },
  {
   "cell_type": "markdown",
   "metadata": {},
   "source": [
    "# Projected vs Reality\n",
    "\n",
    "It is helpful to plot our predictions alongside our test data set, divided into two sections of time, defined by the boundary of the training and test datasets. We can see that the predictions were a bit too aggresive."
   ]
  },
  {
   "cell_type": "code",
   "execution_count": 15,
   "metadata": {},
   "outputs": [
    {
     "data": {
      "image/png": "[encoded data removed]",
      "text/plain": [
       "<Figure size 1080x720 with 1 Axes>"
      ]
     },
     "metadata": {},
     "output_type": "display_data"
    }
   ],
   "source": [
    "import matplotlib.pyplot as plt\n",
    "import seaborn as sns\n",
    "sns.set_style('darkgrid', {'axes.facecolor': '.9'})\n",
    "sns.set_palette(palette='deep')\n",
    "sns_c = sns.color_palette(palette='deep')\n",
    "\n",
    "threshold_date = pd.to_datetime(split_date)\n",
    "\n",
    "fig, ax = plt.subplots(figsize = (15, 10))\n",
    "sns.lineplot(x='ds', y='y', label='y_train', data=train_data, ax=ax)\n",
    "sns.lineplot(x='ds', y='y', label='y_test', data=test_data, ax=ax)\n",
    "sns.lineplot(x='ds', y='trend', data=forecast, ax=ax)\n",
    "ax.axvline(threshold_date, color=sns_c[3], linestyle='--', label='train test split')\n",
    "ax.legend(loc='upper left')\n",
    "ax.set(title='Confirmed Cases', ylabel='');"
   ]
  },
  {
   "cell_type": "markdown",
   "metadata": {},
   "source": [
    "# Define BentoML Service\n",
    "\n",
    "We will now define the code we want to use to serve our model with BentoML.\n",
    "\n",
    "Our class and methods will be decorated to shows its artifact type and pip dependencies.\n",
    "\n",
    "Following that, lets reload the the new code and pack our BentoML service with the booster we have created!"
   ]
  },
  {
   "cell_type": "code",
   "execution_count": 16,
   "metadata": {},
   "outputs": [
    {
     "name": "stdout",
     "output_type": "stream",
     "text": [
      "Overwriting prophet_serve.py\n"
     ]
    }
   ],
   "source": [
    "%%writefile prophet_serve.py\n",
    "\n",
    "import bentoml\n",
    "from bentoml.handlers import DataframeHandler\n",
    "from bentoml.artifact import PickleArtifact\n",
    "import fbprophet\n",
    "\n",
    "@bentoml.artifacts([PickleArtifact('model')])\n",
    "@bentoml.env(pip_dependencies=['fbprophet'])\n",
    "class ProphetServe(bentoml.BentoService):\n",
    "    @bentoml.api(DataframeHandler)\n",
    "    def predict(self, df):\n",
    "        return self.artifacts.model.predict(df)"
   ]
  },
  {
   "cell_type": "code",
   "execution_count": 17,
   "metadata": {},
   "outputs": [
    {
     "name": "stderr",
     "output_type": "stream",
     "text": [
      "[I 200626 12:49:42 __init__:116] Loading local BentoML config file: /home/jovyan/bentoml/bentoml.cfg\n"
     ]
    },
    {
     "name": "stdout",
     "output_type": "stream",
     "text": [
      "[2020-06-26 12:49:43,049] WARNING - bentoml.handlers.* will be deprecated after BentoML 1.0, use bentoml.adapters.* instead\n",
      "[2020-06-26 12:49:43,056] WARNING - DataframeHandler will be deprecated after BentoML 1.0, use DataframeInput instead\n",
      "[2020-06-26 12:49:43,108] WARNING - DataframeHandler will be deprecated after BentoML 1.0, use DataframeInput instead\n"
     ]
    },
    {
     "data": {
      "text/plain": [
       "<module 'prophet_serve' from '/home/jovyan/prophet_serve.py'>"
      ]
     },
     "execution_count": 17,
     "metadata": {},
     "output_type": "execute_result"
    }
   ],
   "source": [
    "import prophet_serve\n",
    "import importlib\n",
    "importlib.reload(prophet_serve)"
   ]
  },
  {
   "cell_type": "markdown",
   "metadata": {},
   "source": [
    "# Pack BentoML Service\n",
    "\n",
    "Lets pack the new service with our model, which would allow use to reference this iteration in the future and also build it into Docker images."
   ]
  },
  {
   "cell_type": "code",
   "execution_count": 18,
   "metadata": {},
   "outputs": [
    {
     "name": "stderr",
     "output_type": "stream",
     "text": [
      "[I 200626 12:49:46 migration:155] Context impl SQLiteImpl.\n",
      "[I 200626 12:49:46 migration:162] Will assume non-transactional DDL.\n",
      "[I 200626 12:49:46 migration:515] Running stamp_revision  -> a6b00ae45279\n"
     ]
    },
    {
     "name": "stdout",
     "output_type": "stream",
     "text": [
      "[2020-06-26 12:50:05,382] INFO - BentoService bundle 'ProphetServe:20200626124946_94E973' saved to: /home/jovyan/bentoml/repository/ProphetServe/20200626124946_94E973\n"
     ]
    }
   ],
   "source": [
    "from prophet_serve import ProphetServe\n",
    "\n",
    "bento_service = ProphetServe()\n",
    "bento_service.pack('model', m)\n",
    "saved_path = bento_service.save()"
   ]
  },
  {
   "cell_type": "markdown",
   "metadata": {},
   "source": [
    "# BentoML Service\n",
    "\n",
    "Now that we have a BentoML Service defined, lets checkout what that looks like via the cli:"
   ]
  },
  {
   "cell_type": "code",
   "execution_count": 19,
   "metadata": {},
   "outputs": [
    {
     "name": "stdout",
     "output_type": "stream",
     "text": [
      "\u001b[39mBENTO_SERVICE                       AGE                         APIS                                   ARTIFACTS\r\n",
      "ProphetServe:20200626124946_94E973  1 minute and 57.03 seconds  predict<DataframeInput:DefaultOutput>  model<PickleArtifact>\u001b[0m\r\n"
     ]
    }
   ],
   "source": [
    "!bentoml get ProphetServe"
   ]
  },
  {
   "cell_type": "markdown",
   "metadata": {},
   "source": [
    "# Explore the Bentoml service\n",
    "\n",
    "Lets pick a service to launch as a service. We will use the most recent one here, but you will need to edit the values below to match yours. This is purely for convience so that we can poke at the BentoML CLI quickly.\n",
    "\n",
    "We can see inside the autogenerated bento service directory that many files now exist, including a Dockerfile and requirements.txt"
   ]
  },
  {
   "cell_type": "code",
   "execution_count": 20,
   "metadata": {},
   "outputs": [
    {
     "name": "stdout",
     "output_type": "stream",
     "text": [
      "\u001b[39m{\r\n",
      "  \"name\": \"ProphetServe\",\r\n",
      "  \"version\": \"20200626124946_94E973\",\r\n",
      "  \"uri\": {\r\n",
      "    \"type\": \"LOCAL\",\r\n",
      "    \"uri\": \"/home/jovyan/bentoml/repository/ProphetServe/20200626124946_94E973\"\r\n",
      "  },\r\n",
      "  \"bentoServiceMetadata\": {\r\n",
      "    \"name\": \"ProphetServe\",\r\n",
      "    \"version\": \"20200626124946_94E973\",\r\n",
      "    \"createdAt\": \"2020-06-26T12:50:05.310154Z\",\r\n",
      "    \"env\": {\r\n",
      "      \"condaEnv\": \"name: bentoml-ProphetServe\\nchannels:\\n- defaults\\ndependencies:\\n- python=3.7.6\\n- pip\\n\",\r\n",
      "      \"pipDependencies\": \"pandas\\nbentoml==0.8.1\\nfbprophet\",\r\n",
      "      \"pythonVersion\": \"3.7.6\",\r\n",
      "      \"dockerBaseImage\": \"bentoml/model-server:0.8.1\"\r\n",
      "    },\r\n",
      "    \"artifacts\": [\r\n",
      "      {\r\n",
      "        \"name\": \"model\",\r\n",
      "        \"artifactType\": \"PickleArtifact\"\r\n",
      "      }\r\n",
      "    ],\r\n",
      "    \"apis\": [\r\n",
      "      {\r\n",
      "        \"name\": \"predict\",\r\n",
      "        \"inputType\": \"DataframeInput\",\r\n",
      "        \"docs\": \"BentoService API\",\r\n",
      "        \"inputConfig\": {\r\n",
      "          \"orient\": \"records\",\r\n",
      "          \"typ\": \"frame\",\r\n",
      "          \"is_batch_input\": true,\r\n",
      "          \"input_dtypes\": null\r\n",
      "        },\r\n",
      "        \"outputConfig\": {\r\n",
      "          \"cors\": \"*\"\r\n",
      "        },\r\n",
      "        \"outputType\": \"DefaultOutput\"\r\n",
      "      }\r\n",
      "    ]\r\n",
      "  }\r\n",
      "}\u001b[0m\r\n"
     ]
    }
   ],
   "source": [
    "!bentoml get ProphetServe:20200626124946_94E973"
   ]
  },
  {
   "cell_type": "markdown",
   "metadata": {},
   "source": [
    "# Run Bento Service\n",
    "\n",
    "Now, using our BentoML service, we can make predictions like so:"
   ]
  },
  {
   "cell_type": "code",
   "execution_count": 21,
   "metadata": {},
   "outputs": [
    {
     "name": "stdout",
     "output_type": "stream",
     "text": [
      "[2020-06-26 12:52:15,280] WARNING - bentoml.handlers.* will be deprecated after BentoML 1.0, use bentoml.adapters.* instead\n",
      "[2020-06-26 12:52:15,888] WARNING - DataframeHandler will be deprecated after BentoML 1.0, use DataframeInput instead\n",
      "INFO:numexpr.utils:NumExpr defaulting to 2 threads.\n",
      "          ds         trend  ...  multiplicative_terms_upper          yhat\n",
      "0 2021-07-14  1.471904e+06  ...                         0.0  1.471369e+06\n",
      "\n",
      "[1 rows x 16 columns]\n"
     ]
    }
   ],
   "source": [
    "!bentoml run ProphetServe:20200626124946_94E973 predict --input '{\"ds\":[\"2021-07-14\"]}'"
   ]
  },
  {
   "cell_type": "markdown",
   "metadata": {},
   "source": [
    "# Explore BentoML Generated Artifacts\n",
    "\n",
    "BentoML generates a whole environment, including Dockerfile, for generating images based on these saved services.\n",
    "\n",
    "It is useful to `ls` this directory and see what it contains."
   ]
  },
  {
   "cell_type": "code",
   "execution_count": 32,
   "metadata": {},
   "outputs": [
    {
     "name": "stdout",
     "output_type": "stream",
     "text": [
      "bentoml-init.sh       Dockerfile       ProphetServe\t setup.py\r\n",
      "bentoml.yml\t      environment.yml  README.md\r\n",
      "docker-entrypoint.sh  MANIFEST.in      requirements.txt\r\n"
     ]
    }
   ],
   "source": [
    "!ls /home/jovyan/bentoml/repository/ProphetServe/20200626124946_94E973"
   ]
  },
  {
   "cell_type": "markdown",
   "metadata": {},
   "source": [
    "# Stitching BentoML to Kubeflow Fairing\n",
    "\n",
    "We can build our models container with Kubeflow Fairing, a cool component which aims to improve data scientist life by streamlining the process of building, training, and deploying machine learning (ML) models.\n",
    "\n",
    "First we need to do some work to get the BentoML artifacts into our build context. We do this via the `preprocessing` work below. We are just taking the auto-generated `BentoML` Docker environment and stitching it together with `Kubeflow Fairing`."
   ]
  },
  {
   "cell_type": "code",
   "execution_count": 35,
   "metadata": {},
   "outputs": [
    {
     "data": {
      "text/plain": [
       "set()"
      ]
     },
     "execution_count": 35,
     "metadata": {},
     "output_type": "execute_result"
    }
   ],
   "source": [
    "# Let build a docker image with builder using bentoml output\n",
    "from kubeflow.fairing.preprocessors.base import BasePreProcessor\n",
    "\n",
    "output_map =  {\n",
    "    \"/home/jovyan/bentoml/repository/ProphetServe/20200626124946_94E973/Dockerfile\": \"Dockerfile\",\n",
    "    \"/home/jovyan/bentoml/repository/ProphetServe/20200626124946_94E973/environment.yml\": \"environment.yml\",\n",
    "    \"/home/jovyan/bentoml/repository/ProphetServe/20200626124946_94E973/requirements.txt\": \"requirements.txt\",\n",
    "    \"/home/jovyan/bentoml/repository/ProphetServe/20200626124946_94E973/setup.py\": \"setup.py\",\n",
    "    \"/home/jovyan/bentoml/repository/ProphetServe/20200626124946_94E973/bentoml-init.sh\": \"bentoml-init.sh\",\n",
    "    \"/home/jovyan/bentoml/repository/ProphetServe/20200626124946_94E973/bentoml.yml\": \"bentoml.yml\",\n",
    "    \"/home/jovyan/bentoml/repository/ProphetServe/20200626124946_94E973/ProphetServe/\": \"ProphetServe/\",\n",
    "    \"/home/jovyan/bentoml/repository/ProphetServe/20200626124946_94E973/ProphetServe/prophet_serve.py\": \"ProphetServe/prophet_serve.py\",\n",
    "    \"/home/jovyan/bentoml/repository/ProphetServe/20200626124946_94E973/ProphetServe/artifacts/model.pkl\": \"ProphetServe/artifacts/model.pkl\",\n",
    "    \"/home/jovyan/bentoml/repository/ProphetServe/20200626124946_94E973/docker-entrypoint.sh\": \"docker-entrypoint.sh\",    \n",
    "}\n",
    "\n",
    "preprocessor = BasePreProcessor(output_map=output_map)\n",
    "\n",
    "preprocessor.preprocess()"
   ]
  },
  {
   "cell_type": "markdown",
   "metadata": {},
   "source": [
    "# Cluster Building\n",
    "\n",
    "In this workflow, we want to develop our models locally, until we arrive at a model we want to deploy. From there we want to use cloud resources to build Docker images to deploy to our Kubernetes cluster.\n",
    "\n",
    "These Docker images will be built in our private cloud, perhaps using data and artifacts which are sensitive in nature."
   ]
  },
  {
   "cell_type": "code",
   "execution_count": 40,
   "metadata": {},
   "outputs": [
    {
     "name": "stderr",
     "output_type": "stream",
     "text": [
      "[I 200626 13:12:41 cluster:46] Building image using cluster builder.\n",
      "[W 200626 13:12:41 base:94] Dockerfile already exists in Fairing context, skipping...\n",
      "[I 200626 13:12:41 base:107] Creating docker context: /tmp/fairing_context_xiphsi3n\n",
      "[W 200626 13:12:41 base:94] Dockerfile already exists in Fairing context, skipping...\n",
      "[W 200626 13:12:57 manager:296] Waiting for fairing-builder-2v5vn-c74m6 to start...\n",
      "[W 200626 13:12:57 manager:296] Waiting for fairing-builder-2v5vn-c74m6 to start...\n",
      "[W 200626 13:12:58 manager:296] Waiting for fairing-builder-2v5vn-c74m6 to start...\n",
      "[I 200626 13:13:03 manager:302] Pod started running True\n"
     ]
    },
    {
     "name": "stdout",
     "output_type": "stream",
     "text": [
      "\u001b[36mINFO\u001b[0m[0005] Retrieving image manifest bentoml/model-server:0.8.1\n",
      "\u001b[36mINFO\u001b[0m[0007] Retrieving image manifest bentoml/model-server:0.8.1\n",
      "\u001b[36mINFO\u001b[0m[0008] Built cross stage deps: map[]\n",
      "\u001b[36mINFO\u001b[0m[0008] Retrieving image manifest bentoml/model-server:0.8.1\n",
      "\u001b[36mINFO\u001b[0m[0009] Retrieving image manifest bentoml/model-server:0.8.1\n",
      "\u001b[36mINFO\u001b[0m[0010] Executing 0 build triggers\n",
      "\u001b[36mINFO\u001b[0m[0010] Unpacking rootfs as cmd COPY . /bento requires it.\n",
      "\u001b[36mINFO\u001b[0m[0109] COPY . /bento\n",
      "\u001b[36mINFO\u001b[0m[0109] Resolving 17 paths\n",
      "\u001b[36mINFO\u001b[0m[0109] Taking snapshot of files...\n",
      "\u001b[36mINFO\u001b[0m[0110] WORKDIR /bento\n",
      "\u001b[36mINFO\u001b[0m[0110] cmd: workdir\n",
      "\u001b[36mINFO\u001b[0m[0110] Changed working directory to /bento\n",
      "\u001b[36mINFO\u001b[0m[0110] ARG PIP_INDEX_URL=https://pypi.python.org/simple/\n",
      "\u001b[36mINFO\u001b[0m[0110] ARG PIP_TRUSTED_HOST=pypi.python.org\n",
      "\u001b[36mINFO\u001b[0m[0110] ENV PIP_INDEX_URL $PIP_INDEX_URL\n",
      "\u001b[36mINFO\u001b[0m[0110] ENV PIP_TRUSTED_HOST $PIP_TRUSTED_HOST\n",
      "\u001b[36mINFO\u001b[0m[0110] RUN if [ -f /bento/bentoml-init.sh ]; then bash -c /bento/bentoml-init.sh; fi\n",
      "\u001b[36mINFO\u001b[0m[0110] Taking snapshot of full filesystem...\n",
      "\u001b[36mINFO\u001b[0m[0111] Resolving 30305 paths\n",
      "\u001b[36mINFO\u001b[0m[0128] cmd: /bin/sh\n",
      "\u001b[36mINFO\u001b[0m[0128] args: [-c if [ -f /bento/bentoml-init.sh ]; then bash -c /bento/bentoml-init.sh; fi]\n",
      "\u001b[36mINFO\u001b[0m[0128] Running: [/bin/sh -c if [ -f /bento/bentoml-init.sh ]; then bash -c /bento/bentoml-init.sh; fi]\n",
      "+++ dirname /bento/bentoml-init.sh\n",
      "++ cd /bento\n",
      "++ pwd -P\n",
      "+ SAVED_BUNDLE_PATH=/bento\n",
      "+ cd /bento\n",
      "+ '[' -f ./setup.sh ']'\n",
      "+ command -v conda\n",
      "+ conda env update -n base -f ./environment.yml\n",
      "Collecting package metadata (repodata.json): ...working... done\n",
      "Solving environment: ...working... done\n",
      "\n",
      "Downloading and Extracting Packages\n",
      "pip-20.1.1           | 1.7 MB    | ########## | 100% \n",
      "certifi-2020.6.20    | 156 KB    | ########## | 100% \n",
      "openssl-1.1.1g       | 2.5 MB    | ########## | 100% \n",
      "Preparing transaction: ...working... done\n",
      "Verifying transaction: ...working... done\n",
      "Executing transaction: ...working... done\n",
      "\n",
      "\n",
      "==> WARNING: A newer version of conda exists. <==\n",
      "  current version: 4.8.2\n",
      "  latest version: 4.8.3\n",
      "\n",
      "Please update conda by running\n",
      "\n",
      "    $ conda update -n base -c defaults conda\n",
      "#\n",
      "# To activate this environment, use\n",
      "#\n",
      "#     $ conda activate base\n",
      "#\n",
      "# To deactivate an active environment, use\n",
      "#\n",
      "#     $ conda deactivate\n",
      "\n",
      "\n",
      "\n",
      "+ pip install -r ./requirements.txt\n",
      "Looking in indexes: https://pypi.python.org/simple/\n",
      "Collecting pandas\n",
      "  Downloading pandas-1.0.5-cp37-cp37m-manylinux1_x86_64.whl (10.1 MB)\n",
      "Requirement already satisfied: bentoml==0.8.1 in /opt/conda/lib/python3.7/site-packages (from -r ./requirements.txt (line 2)) (0.8.1)\n",
      "Collecting fbprophet\n",
      "  Downloading fbprophet-0.6.tar.gz (54 kB)\n",
      "Collecting pytz>=2017.2\n",
      "  Downloading pytz-2020.1-py2.py3-none-any.whl (510 kB)\n",
      "Requirement already satisfied: numpy>=1.13.3 in /opt/conda/lib/python3.7/site-packages (from pandas->-r ./requirements.txt (line 1)) (1.18.5)\n",
      "Requirement already satisfied: python-dateutil>=2.6.1 in /opt/conda/lib/python3.7/site-packages (from pandas->-r ./requirements.txt (line 1)) (2.8.0)\n",
      "Requirement already satisfied: grpcio<=1.27.2 in /opt/conda/lib/python3.7/site-packages (from bentoml==0.8.1->-r ./requirements.txt (line 2)) (1.27.2)\n",
      "Requirement already satisfied: protobuf>=3.6.0 in /opt/conda/lib/python3.7/site-packages (from bentoml==0.8.1->-r ./requirements.txt (line 2)) (3.12.2)\n",
      "Requirement already satisfied: py-zipkin in /opt/conda/lib/python3.7/site-packages (from bentoml==0.8.1->-r ./requirements.txt (line 2)) (0.20.0)\n",
      "Requirement already satisfied: tabulate in /opt/conda/lib/python3.7/site-packages (from bentoml==0.8.1->-r ./requirements.txt (line 2)) (0.8.7)\n",
      "Requirement already satisfied: cerberus in /opt/conda/lib/python3.7/site-packages (from bentoml==0.8.1->-r ./requirements.txt (line 2)) (1.3.2)\n",
      "Requirement already satisfied: configparser in /opt/conda/lib/python3.7/site-packages (from bentoml==0.8.1->-r ./requirements.txt (line 2)) (5.0.0)\n",
      "Requirement already satisfied: boto3 in /opt/conda/lib/python3.7/site-packages (from bentoml==0.8.1->-r ./requirements.txt (line 2)) (1.14.3)\n",
      "Requirement already satisfied: psutil in /opt/conda/lib/python3.7/site-packages (from bentoml==0.8.1->-r ./requirements.txt (line 2)) (5.7.0)\n",
      "Requirement already satisfied: sqlalchemy-utils in /opt/conda/lib/python3.7/site-packages (from bentoml==0.8.1->-r ./requirements.txt (line 2)) (0.36.6)\n",
      "Requirement already satisfied: prometheus-client in /opt/conda/lib/python3.7/site-packages (from bentoml==0.8.1->-r ./requirements.txt (line 2)) (0.8.0)\n",
      "Requirement already satisfied: certifi in /opt/conda/lib/python3.7/site-packages (from bentoml==0.8.1->-r ./requirements.txt (line 2)) (2020.6.20)\n",
      "Requirement already satisfied: docker in /opt/conda/lib/python3.7/site-packages (from bentoml==0.8.1->-r ./requirements.txt (line 2)) (4.2.1)\n",
      "Requirement already satisfied: requests in /opt/conda/lib/python3.7/site-packages (from bentoml==0.8.1->-r ./requirements.txt (line 2)) (2.22.0)\n",
      "Requirement already satisfied: aiohttp in /opt/conda/lib/python3.7/site-packages (from bentoml==0.8.1->-r ./requirements.txt (line 2)) (3.6.2)\n",
      "Requirement already satisfied: ruamel.yaml>=0.15.0 in /opt/conda/lib/python3.7/site-packages (from bentoml==0.8.1->-r ./requirements.txt (line 2)) (0.16.10)\n",
      "Requirement already satisfied: flask in /opt/conda/lib/python3.7/site-packages (from bentoml==0.8.1->-r ./requirements.txt (line 2)) (1.1.2)\n",
      "Requirement already satisfied: python-json-logger in /opt/conda/lib/python3.7/site-packages (from bentoml==0.8.1->-r ./requirements.txt (line 2)) (0.1.11)\n",
      "Requirement already satisfied: packaging in /opt/conda/lib/python3.7/site-packages (from bentoml==0.8.1->-r ./requirements.txt (line 2)) (20.4)\n",
      "Requirement already satisfied: alembic in /opt/conda/lib/python3.7/site-packages (from bentoml==0.8.1->-r ./requirements.txt (line 2)) (1.4.2)\n",
      "Requirement already satisfied: sqlalchemy>=1.3.0 in /opt/conda/lib/python3.7/site-packages (from bentoml==0.8.1->-r ./requirements.txt (line 2)) (1.3.17)\n",
      "Requirement already satisfied: humanfriendly in /opt/conda/lib/python3.7/site-packages (from bentoml==0.8.1->-r ./requirements.txt (line 2)) (8.2)\n",
      "Requirement already satisfied: gunicorn in /opt/conda/lib/python3.7/site-packages (from bentoml==0.8.1->-r ./requirements.txt (line 2)) (20.0.4)\n",
      "Requirement already satisfied: click>=7.0 in /opt/conda/lib/python3.7/site-packages (from bentoml==0.8.1->-r ./requirements.txt (line 2)) (7.1.2)\n",
      "Collecting Cython>=0.22\n",
      "  Downloading Cython-0.29.20-cp37-cp37m-manylinux1_x86_64.whl (2.0 MB)\n",
      "Collecting cmdstanpy==0.4\n",
      "  Downloading cmdstanpy-0.4.0-py3-none-any.whl (22 kB)\n",
      "Collecting pystan>=2.14\n",
      "  Downloading pystan-2.19.1.1-cp37-cp37m-manylinux1_x86_64.whl (67.3 MB)\n",
      "Collecting matplotlib>=2.0.0\n",
      "  Downloading matplotlib-3.2.2-cp37-cp37m-manylinux1_x86_64.whl (12.4 MB)\n",
      "Collecting LunarCalendar>=0.0.9\n",
      "  Downloading LunarCalendar-0.0.9-py2.py3-none-any.whl (18 kB)\n",
      "Collecting convertdate>=2.1.2\n",
      "  Downloading convertdate-2.2.1-py2.py3-none-any.whl (43 kB)\n",
      "Collecting holidays>=0.9.5\n",
      "  Downloading holidays-0.10.2.tar.gz (110 kB)\n",
      "Collecting setuptools-git>=1.2\n",
      "  Downloading setuptools_git-1.2-py2.py3-none-any.whl (10 kB)\n",
      "Requirement already satisfied: six>=1.5 in /opt/conda/lib/python3.7/site-packages (from python-dateutil>=2.6.1->pandas->-r ./requirements.txt (line 1)) (1.14.0)\n",
      "Requirement already satisfied: setuptools in /opt/conda/lib/python3.7/site-packages (from protobuf>=3.6.0->bentoml==0.8.1->-r ./requirements.txt (line 2)) (45.2.0.post20200210)\n",
      "Requirement already satisfied: thriftpy2>=0.4.0 in /opt/conda/lib/python3.7/site-packages (from py-zipkin->bentoml==0.8.1->-r ./requirements.txt (line 2)) (0.4.11)\n",
      "Requirement already satisfied: botocore<1.18.0,>=1.17.3 in /opt/conda/lib/python3.7/site-packages (from boto3->bentoml==0.8.1->-r ./requirements.txt (line 2)) (1.17.3)\n",
      "Requirement already satisfied: s3transfer<0.4.0,>=0.3.0 in /opt/conda/lib/python3.7/site-packages (from boto3->bentoml==0.8.1->-r ./requirements.txt (line 2)) (0.3.3)\n",
      "Requirement already satisfied: jmespath<1.0.0,>=0.7.1 in /opt/conda/lib/python3.7/site-packages (from boto3->bentoml==0.8.1->-r ./requirements.txt (line 2)) (0.10.0)\n",
      "Requirement already satisfied: websocket-client>=0.32.0 in /opt/conda/lib/python3.7/site-packages (from docker->bentoml==0.8.1->-r ./requirements.txt (line 2)) (0.57.0)\n",
      "Requirement already satisfied: chardet<3.1.0,>=3.0.2 in /opt/conda/lib/python3.7/site-packages (from requests->bentoml==0.8.1->-r ./requirements.txt (line 2)) (3.0.4)\n",
      "Requirement already satisfied: urllib3!=1.25.0,!=1.25.1,<1.26,>=1.21.1 in /opt/conda/lib/python3.7/site-packages (from requests->bentoml==0.8.1->-r ./requirements.txt (line 2)) (1.25.8)\n",
      "Requirement already satisfied: idna<2.9,>=2.5 in /opt/conda/lib/python3.7/site-packages (from requests->bentoml==0.8.1->-r ./requirements.txt (line 2)) (2.8)\n",
      "Requirement already satisfied: attrs>=17.3.0 in /opt/conda/lib/python3.7/site-packages (from aiohttp->bentoml==0.8.1->-r ./requirements.txt (line 2)) (19.3.0)\n",
      "Requirement already satisfied: multidict<5.0,>=4.5 in /opt/conda/lib/python3.7/site-packages (from aiohttp->bentoml==0.8.1->-r ./requirements.txt (line 2)) (4.7.6)\n",
      "Requirement already satisfied: yarl<2.0,>=1.0 in /opt/conda/lib/python3.7/site-packages (from aiohttp->bentoml==0.8.1->-r ./requirements.txt (line 2)) (1.4.2)\n",
      "Requirement already satisfied: async-timeout<4.0,>=3.0 in /opt/conda/lib/python3.7/site-packages (from aiohttp->bentoml==0.8.1->-r ./requirements.txt (line 2)) (3.0.1)\n",
      "Requirement already satisfied: ruamel.yaml.clib>=0.1.2; platform_python_implementation == \"CPython\" and python_version < \"3.9\" in /opt/conda/lib/python3.7/site-packages (from ruamel.yaml>=0.15.0->bentoml==0.8.1->-r ./requirements.txt (line 2)) (0.2.0)\n",
      "Requirement already satisfied: Werkzeug>=0.15 in /opt/conda/lib/python3.7/site-packages (from flask->bentoml==0.8.1->-r ./requirements.txt (line 2)) (1.0.1)\n",
      "Requirement already satisfied: Jinja2>=2.10.1 in /opt/conda/lib/python3.7/site-packages (from flask->bentoml==0.8.1->-r ./requirements.txt (line 2)) (2.11.2)\n",
      "Requirement already satisfied: itsdangerous>=0.24 in /opt/conda/lib/python3.7/site-packages (from flask->bentoml==0.8.1->-r ./requirements.txt (line 2)) (1.1.0)\n",
      "Requirement already satisfied: pyparsing>=2.0.2 in /opt/conda/lib/python3.7/site-packages (from packaging->bentoml==0.8.1->-r ./requirements.txt (line 2)) (2.4.7)\n",
      "Requirement already satisfied: python-editor>=0.3 in /opt/conda/lib/python3.7/site-packages (from alembic->bentoml==0.8.1->-r ./requirements.txt (line 2)) (1.0.4)\n",
      "Requirement already satisfied: Mako in /opt/conda/lib/python3.7/site-packages (from alembic->bentoml==0.8.1->-r ./requirements.txt (line 2)) (1.1.3)\n",
      "Collecting kiwisolver>=1.0.1\n",
      "  Downloading kiwisolver-1.2.0-cp37-cp37m-manylinux1_x86_64.whl (88 kB)\n",
      "Collecting cycler>=0.10\n",
      "  Downloading cycler-0.10.0-py2.py3-none-any.whl (6.5 kB)\n",
      "Collecting ephem>=3.7.5.3\n",
      "  Downloading ephem-3.7.7.1-cp37-cp37m-manylinux2010_x86_64.whl (1.2 MB)\n",
      "Collecting pymeeus<=1,>=0.3.6\n",
      "  Downloading PyMeeus-0.3.7.tar.gz (732 kB)\n",
      "Collecting korean_lunar_calendar\n",
      "  Downloading korean_lunar_calendar-0.2.1-py3-none-any.whl (8.0 kB)\n",
      "Requirement already satisfied: ply<4.0,>=3.4 in /opt/conda/lib/python3.7/site-packages (from thriftpy2>=0.4.0->py-zipkin->bentoml==0.8.1->-r ./requirements.txt (line 2)) (3.11)\n",
      "Requirement already satisfied: docutils<0.16,>=0.10 in /opt/conda/lib/python3.7/site-packages (from botocore<1.18.0,>=1.17.3->boto3->bentoml==0.8.1->-r ./requirements.txt (line 2)) (0.15.2)\n",
      "Requirement already satisfied: MarkupSafe>=0.23 in /opt/conda/lib/python3.7/site-packages (from Jinja2>=2.10.1->flask->bentoml==0.8.1->-r ./requirements.txt (line 2)) (1.1.1)\n",
      "Building wheels for collected packages: fbprophet, holidays, pymeeus\n",
      "  Building wheel for fbprophet (setup.py): started\n",
      "  Building wheel for fbprophet (setup.py): finished with status 'error'\n",
      "  Running setup.py clean for fbprophet\n",
      "  ERROR: Command errored out with exit status 1:\n",
      "   command: /opt/conda/bin/python -u -c 'import sys, setuptools, tokenize; sys.argv[0] = '\"'\"'/tmp/pip-install-zh6gfvkx/fbprophet/setup.py'\"'\"'; __file__='\"'\"'/tmp/pip-install-zh6gfvkx/fbprophet/setup.py'\"'\"';f=getattr(tokenize, '\"'\"'open'\"'\"', open)(__file__);code=f.read().replace('\"'\"'\\r\\n'\"'\"', '\"'\"'\\n'\"'\"');f.close();exec(compile(code, __file__, '\"'\"'exec'\"'\"'))' bdist_wheel -d /tmp/pip-wheel-qwa0toa2\n",
      "       cwd: /tmp/pip-install-zh6gfvkx/fbprophet/\n",
      "  Complete output (40 lines):\n",
      "  running bdist_wheel\n",
      "  running build\n",
      "  running build_py\n",
      "  creating build\n",
      "  creating build/lib\n",
      "  creating build/lib/fbprophet\n",
      "  creating build/lib/fbprophet/stan_model\n",
      "  Traceback (most recent call last):\n",
      "    File \"<string>\", line 1, in <module>\n",
      "    File \"/tmp/pip-install-zh6gfvkx/fbprophet/setup.py\", line 148, in <module>\n",
      "      \"\"\"\n",
      "    File \"/opt/conda/lib/python3.7/site-packages/setuptools/__init__.py\", line 144, in setup\n",
      "      return distutils.core.setup(**attrs)\n",
      "    File \"/opt/conda/lib/python3.7/distutils/core.py\", line 148, in setup\n",
      "      dist.run_commands()\n",
      "    File \"/opt/conda/lib/python3.7/distutils/dist.py\", line 966, in run_commands\n",
      "      self.run_command(cmd)\n",
      "    File \"/opt/conda/lib/python3.7/distutils/dist.py\", line 985, in run_command\n",
      "      cmd_obj.run()\n",
      "    File \"/opt/conda/lib/python3.7/site-packages/wheel/bdist_wheel.py\", line 223, in run\n",
      "      self.run_command('build')\n",
      "    File \"/opt/conda/lib/python3.7/distutils/cmd.py\", line 313, in run_command\n",
      "      self.distribution.run_command(command)\n",
      "    File \"/opt/conda/lib/python3.7/distutils/dist.py\", line 985, in run_command\n",
      "      cmd_obj.run()\n",
      "    File \"/opt/conda/lib/python3.7/distutils/command/build.py\", line 135, in run\n",
      "      self.run_command(cmd_name)\n",
      "    File \"/opt/conda/lib/python3.7/distutils/cmd.py\", line 313, in run_command\n",
      "      self.distribution.run_command(command)\n",
      "    File \"/opt/conda/lib/python3.7/distutils/dist.py\", line 985, in run_command\n",
      "      cmd_obj.run()\n",
      "    File \"/tmp/pip-install-zh6gfvkx/fbprophet/setup.py\", line 48, in run\n",
      "      build_models(target_dir)\n",
      "    File \"/tmp/pip-install-zh6gfvkx/fbprophet/setup.py\", line 36, in build_models\n",
      "      from fbprophet.models import StanBackendEnum\n",
      "    File \"/tmp/pip-install-zh6gfvkx/fbprophet/fbprophet/__init__.py\", line 8, in <module>\n",
      "      from fbprophet.forecaster import Prophet\n",
      "    File \"/tmp/pip-install-zh6gfvkx/fbprophet/fbprophet/forecaster.py\", line 15, in <module>\n",
      "      import pandas as pd\n",
      "  ModuleNotFoundError: No module named 'pandas'\n",
      "  ----------------------------------------\n",
      "  ERROR: Failed building wheel for fbprophet\n",
      "  Building wheel for holidays (setup.py): started\n",
      "  Building wheel for holidays (setup.py): finished with status 'done'\n",
      "  Created wheel for holidays: filename=holidays-0.10.2-py3-none-any.whl size=111560 sha256=e42528ffa1b9947182d30cec4b982d0e0572c753b64acb0c200b1855399f89fd\n",
      "  Stored in directory: /root/.cache/pip/wheels/90/4e/82/f4130a57eb035c4344489ca14caff692590719b5f375540f53\n",
      "  Building wheel for pymeeus (setup.py): started\n",
      "  Building wheel for pymeeus (setup.py): finished with status 'done'\n",
      "  Created wheel for pymeeus: filename=PyMeeus-0.3.7-py3-none-any.whl size=702876 sha256=441c449f932be4813828e725a7a9db2d211bc003bf0634cc25d516f9a715c30a\n",
      "  Stored in directory: /root/.cache/pip/wheels/80/32/5f/2a67880d4ce584b9cf99146f9945e46942dfb010a9382c6ff5\n",
      "Successfully built holidays pymeeus\n",
      "Failed to build fbprophet\n",
      "Installing collected packages: pytz, pandas, Cython, cmdstanpy, pystan, kiwisolver, cycler, matplotlib, ephem, LunarCalendar, pymeeus, convertdate, korean-lunar-calendar, holidays, setuptools-git, fbprophet\n",
      "    Running setup.py install for fbprophet: started\n",
      "    Running setup.py install for fbprophet: still running...\n",
      "    Running setup.py install for fbprophet: finished with status 'done'\n",
      "Successfully installed Cython-0.29.20 LunarCalendar-0.0.9 cmdstanpy-0.4.0 convertdate-2.2.1 cycler-0.10.0 ephem-3.7.7.1 fbprophet-0.6 holidays-0.10.2 kiwisolver-1.2.0 korean-lunar-calendar-0.2.1 matplotlib-3.2.2 pandas-1.0.5 pymeeus-0.3.7 pystan-2.19.1.1 pytz-2020.1 setuptools-git-1.2\n",
      "+ for filename in ./bundled_pip_dependencies/*.tar.gz\n",
      "+ '[' -e './bundled_pip_dependencies/*.tar.gz' ']'\n",
      "+ continue\n",
      "\u001b[36mINFO\u001b[0m[0421] Taking snapshot of full filesystem...\n",
      "\u001b[36mINFO\u001b[0m[0422] Resolving 57440 paths\n",
      "\u001b[36mINFO\u001b[0m[0521] ENV PORT 5000\n",
      "\u001b[36mINFO\u001b[0m[0521] EXPOSE $PORT\n",
      "\u001b[36mINFO\u001b[0m[0521] cmd: EXPOSE\n",
      "\u001b[36mINFO\u001b[0m[0521] Adding exposed port: 5000/tcp\n",
      "\u001b[36mINFO\u001b[0m[0521] COPY docker-entrypoint.sh /usr/local/bin/\n",
      "\u001b[36mINFO\u001b[0m[0521] Resolving 1 paths\n",
      "\u001b[36mINFO\u001b[0m[0521] Taking snapshot of files...\n",
      "\u001b[36mINFO\u001b[0m[0521] ENTRYPOINT [ \"docker-entrypoint.sh\" ]\n",
      "\u001b[36mINFO\u001b[0m[0521] CMD [\"bentoml\", \"serve-gunicorn\", \"/bento\"]\n",
      "None\n"
     ]
    }
   ],
   "source": [
    "from kubeflow.fairing.builders import cluster\n",
    "from kubeflow.fairing import constants\n",
    "\n",
    "constants.constants.KANIKO_IMAGE = \"gcr.io/kaniko-project/executor:v0.22.0\"\n",
    "\n",
    "cluster_builder = cluster.cluster.ClusterBuilder(registry=DOCKER_REGISTRY,\n",
    "                                                 preprocessor=preprocessor,\n",
    "                                                 dockerfile_path=\"Dockerfile\",\n",
    "                                                 context_source=minio_context_source)\n",
    "\n",
    "print(cluster_builder.build())"
   ]
  },
  {
   "cell_type": "markdown",
   "metadata": {},
   "source": [
    "# Deploy the Service\n",
    "\n",
    "There are several good ways we can deploy the model we have fit, trained and crafted into an image. For this example, we will deploy the model service with KFServing by creating an `InferenceService`. This project uses Knative Serving to deploy the service and setup its routes. Under the covers Istio is at work routing our traffic to this new service.\n",
    "\n",
    "For local development, set the cluster local tags and set the domain to reflect `svc.cluster.local` as described in [these docs](https://knative.dev/docs/serving/cluster-local-route/).\n",
    "\n",
    "Lets use the Custom Object K8S API to deploy the pickled Prophet model we have defined with BentoML and built with Fairing.\n",
    "\n",
    "## KFServing `InferenceService`\n",
    "\n",
    "Below, [we define and launch an inferenceservice](https://docs.bentoml.org/en/latest/deployment/kfserving.html#deploy-bentoservice-to-kfserving), which in turn reconciles into a Knative service."
   ]
  },
  {
   "cell_type": "code",
   "execution_count": 60,
   "metadata": {},
   "outputs": [
    {
     "data": {
      "text/plain": [
       "{'apiVersion': 'serving.kubeflow.org/v1alpha2',\n",
       " 'kind': 'InferenceService',\n",
       " 'metadata': {'creationTimestamp': '2020-06-26T14:08:34Z',\n",
       "  'generation': 1,\n",
       "  'name': 'prophet-model-api',\n",
       "  'namespace': 'default',\n",
       "  'resourceVersion': '2962980',\n",
       "  'selfLink': '/apis/serving.kubeflow.org/v1alpha2/namespaces/default/inferenceservices/prophet-model-api',\n",
       "  'uid': '58f289ac-a802-44d1-ab0f-928dcc283ad5'},\n",
       " 'spec': {'default': {'predictor': {'custom': {'container': {'image': 'iancoffey/fairing-job:485938BA',\n",
       "      'name': 'prophet-model-api-container',\n",
       "      'ports': [{'containerPort': 5000}],\n",
       "      'resources': {'limits': {'cpu': '1', 'memory': '2Gi'},\n",
       "       'requests': {'cpu': '1', 'memory': '2Gi'}}}}}}},\n",
       " 'status': {}}"
      ]
     },
     "execution_count": 60,
     "metadata": {},
     "output_type": "execute_result"
    }
   ],
   "source": [
    "from kfserving import V1alpha2EndpointSpec,V1alpha2InferenceServiceSpec, V1alpha2InferenceService, V1alpha2CustomSpec\n",
    "from kfserving import KFServingClient\n",
    "from kfserving import constants\n",
    "\n",
    "containerSpec = k8s_client.V1Container(\n",
    "    name=\"prophet-model-api-container\",\n",
    "    image=cluster_builder.image_tag,\n",
    "    ports=[k8s_client.V1ContainerPort(container_port=5000)])\n",
    "\n",
    "default_custom_model_spec = V1alpha2EndpointSpec(predictor=V1alpha2PredictorSpec(custom=V1alpha2CustomSpec(container=containerSpec)))\n",
    "\n",
    "metadata = k8s_client.V1ObjectMeta(\n",
    "    name=\"prophet-model-api\", namespace=\"default\",\n",
    ")\n",
    "\n",
    "isvc = V1alpha2InferenceService(api_version=constants.KFSERVING_GROUP + '/' + constants.KFSERVING_VERSION,\n",
    "                          kind=constants.KFSERVING_KIND,\n",
    "                          metadata=metadata,\n",
    "                          spec=V1alpha2InferenceServiceSpec(default=default_custom_model_spec))\n",
    "\n",
    "KFServing = KFServingClient()\n",
    "KFServing.create(isvc)"
   ]
  },
  {
   "cell_type": "markdown",
   "metadata": {},
   "source": [
    "# Querying the Inference Server\n",
    "\n",
    "Now we are ready to use our endpoint. Lets post a test date with curl and see our shiny brand new API endpoint perform."
   ]
  },
  {
   "cell_type": "code",
   "execution_count": 61,
   "metadata": {},
   "outputs": [
    {
     "name": "stdout",
     "output_type": "stream",
     "text": [
      "\r\n",
      "\r\n",
      "\r\n",
      "\r\n",
      "\r\n",
      "\r\n",
      "\r\n",
      "\r\n",
      "\r\n",
      "[{\"ds\":1594684800000,\"trend\":506162.6572053498,\"yhat_lower\":301556.5952542502,\"yhat_upper\":688911.3268348163,\"trend_lower\":301342.1933916567,\"trend_upper\":691285.190480784,\"additive_terms\":-645.3873742295,\"additive_terms_lower\":-645.3873742295,\"additive_terms_upper\":-645.3873742295,\"weekly\":-645.3873742295,\"weekly_lower\":-645.3873742295,\"weekly_upper\":-645.3873742295,\"multiplicative_terms\":0.0,\"multiplicative_terms_lower\":0.0,\"multiplicative_terms_upper\":0.0,\"yhat\":505517.2698311203}]"
     ]
    }
   ],
   "source": [
    "!curl -i --header \"Content-Type: application/json\" -X POST http://prophet-model-api-predictor-default-7z66r-private.default.svc.cluster.local/predict --data '{\"ds\":[\"2020-07-14\"]}' "
   ]
  },
  {
   "cell_type": "markdown",
   "metadata": {},
   "source": [
    "# Model Deployed\n",
    "\n",
    "Now we have a fitted and trained a model, defined a Service with BentoML, built an image for it using Kubeflow Fairing and deployed it to our Kubernetes dev cluster with KFServing. Party!"
   ]
  }
 ],
 "metadata": {
  "kernelspec": {
   "display_name": "Python 3",
   "language": "python",
   "name": "python3"
  },
  "language_info": {
   "codemirror_mode": {
    "name": "ipython",
    "version": 3
   },
   "file_extension": ".py",
   "mimetype": "text/x-python",
   "name": "python",
   "nbconvert_exporter": "python",
   "pygments_lexer": "ipython3",
   "version": "3.7.6"
  }
 },
 "nbformat": 4,
 "nbformat_minor": 4
}
