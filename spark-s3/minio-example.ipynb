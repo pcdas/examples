{
 "cells": [
  {
   "cell_type": "markdown",
   "metadata": {},
   "source": [
    "### Obtain Minio endpoint URL programatically"
   ]
  },
  {
   "cell_type": "code",
   "execution_count": null,
   "metadata": {},
   "outputs": [],
   "source": [
    "from kubernetes import client as k8s_client\n",
    "from kubernetes import config as k8s_config\n",
    "from kubeflow.fairing.utils import is_running_in_k8s\n",
    "from kubernetes.client.rest import ApiException\n",
    "import logging\n",
    "\n",
    "namespace = fairing_utils.get_current_k8s_namespace()\n",
    "if is_running_in_k8s():\n",
    "    k8s_config.load_incluster_config()\n",
    "else:\n",
    "    k8s_config.load_kube_config()\n",
    "\n",
    "api_client = k8s_client.CoreV1Api()\n",
    "minio_service_endpoint = None\n",
    "try:\n",
    "    minio_service_endpoint = api_client.read_namespaced_service(name='minio-service', namespace='kubeflow')\n",
    "except ApiException as e:\n",
    "    if e.status == 403:\n",
    "        logging.warning(\n",
    "            f\"The service account doesn't have sufficient privileges \"\n",
    "            f\"to get the kubeflow minio-service. \"\n",
    "            f\"You will have to manually enter the minio cluster-ip. \"\n",
    "            f\"To make this function work ask someone with cluster \"\n",
    "            f\"priveleges to create an appropriate \"\n",
    "            f\"clusterrolebinding by running a command.\\n\"\n",
    "            f\"kubectl create --namespace=kubeflow rolebinding \"\n",
    "            f\"--clusterrole=kubeflow-view \"\n",
    "            f\"--serviceaccount={namespace}:default-editor \"\n",
    "            f\"{namespace}-minio-view\")\n",
    "        logging.error(f\"API access denied with reason: {e.reason}\")\n",
    "\n",
    "s3_endpoint_ip = minio_service_endpoint.spec.cluster_ip\n",
    "s3_endpoint_port = minio_service_endpoint.spec.ports[0].port\n",
    "s3_endpoint = f\"{s3_endpoint_ip}:{s3_endpoint_port}\"\n",
    "minio_endpoint = f\"http://{s3_endpoint}\"\n",
    "\n",
    "logging.info(f\"Running in namespace {namespace}\")\n",
    "logging.info(f\"Using minio instance with endpoint '{minio_endpoint}'\")\n"
   ]
  },
  {
   "cell_type": "markdown",
   "metadata": {},
   "source": [
    "### Parameters needed for a Minio client session"
   ]
  },
  {
   "cell_type": "code",
   "execution_count": null,
   "metadata": {},
   "outputs": [],
   "source": [
    "if minio_endpoint == \"http://:\":\n",
    "    minio_endpoint = \"http://minio-service.kubeflow.svc.cluster.local:9000\"\n",
    "minio_username = \"minio\"\n",
    "minio_key = \"minio123\"\n",
    "minio_region = \"us-east-1\""
   ]
  },
  {
   "cell_type": "markdown",
   "metadata": {},
   "source": [
    "### Setup a Minio client session"
   ]
  },
  {
   "cell_type": "code",
   "execution_count": null,
   "metadata": {},
   "outputs": [],
   "source": [
    "import boto3\n",
    "from botocore.client import Config\n",
    "\n",
    "session = boto3.session.Session()\n",
    "s3 = boto3.client('s3',\n",
    "                   endpoint_url=minio_endpoint,\n",
    "                   aws_access_key_id=minio_username,\n",
    "                   aws_secret_access_key=minio_key,\n",
    "                   config=Config(signature_version='s3v4'),\n",
    "                   region_name=minio_region,\n",
    "                   use_ssl=False)\n"
   ]
  },
  {
   "cell_type": "markdown",
   "metadata": {},
   "source": [
    "### List a Minio bucket"
   ]
  },
  {
   "cell_type": "code",
   "execution_count": null,
   "metadata": {},
   "outputs": [],
   "source": [
    "response = s3.list_buckets()\n",
    "\n",
    "# Check the existence of the given bucket\n",
    "mybucket='pcdas'\n",
    "found = False\n",
    "print(f'Checking the existence of my bucket {mybucket}:')\n",
    "for bucket in response['Buckets']:\n",
    "    if mybucket == bucket[\"Name\"]:\n",
    "        print(f'  {bucket[\"Name\"]} {bucket[\"CreationDate\"]} {response[\"Owner\"][\"DisplayName\"]}')\n",
    "        found = True\n",
    "        break\n",
    "if not found:\n",
    "    print(f'  {mybucket} is not found.')"
   ]
  },
  {
   "cell_type": "markdown",
   "metadata": {},
   "source": [
    "### Source of population dataset\n",
    " * [United Nations – Dept. of Economic and Social Affairs, population dynamics](https://population.un.org/wpp/Download/Standard/CSV/)\n",
    " \n",
    " ```\n",
    " $ curl \"https://population.un.org/wpp/Download/Files/1_Indicators%20(Standard)/CSV_FILES/WPP2019_TotalPopulationBySex.csv\" > TotalPopulation.csv\n",
    " $ head -1 TotalPopulation.csv\n",
    " LocID,Location,VarID,Variant,Time,MidPeriod,PopMale,PopFemale,PopTotal,PopDensity\n",
    " $ gzip TotalPopulation.csv\n",
    " $ mc cp TotalPopulation.csv.gz s3/<bucket>/mycsvbucket/sampledata\n",
    " ```\n",
    " \n",
    "### Download the previously uploaded file to /tmp directory\n",
    " "
   ]
  },
  {
   "cell_type": "code",
   "execution_count": null,
   "metadata": {},
   "outputs": [],
   "source": [
    "file_name ='TotalPopulation.csv.gz'\n",
    "with open('/tmp/' + file_name, 'wb') as f:\n",
    "    s3.download_fileobj(mybucket, 'mycsvbucket/sampledata/' + file_name, f)"
   ]
  },
  {
   "cell_type": "code",
   "execution_count": null,
   "metadata": {},
   "outputs": [],
   "source": [
    "!ls -l /tmp/TotalPopulation.csv.gz"
   ]
  }
 ],
 "metadata": {
  "kernelspec": {
   "display_name": "Python 3",
   "language": "python",
   "name": "python3"
  },
  "language_info": {
   "codemirror_mode": {
    "name": "ipython",
    "version": 3
   },
   "file_extension": ".py",
   "mimetype": "text/x-python",
   "name": "python",
   "nbconvert_exporter": "python",
   "pygments_lexer": "ipython3",
   "version": "3.6.9"
  }
 },
 "nbformat": 4,
 "nbformat_minor": 4
}
