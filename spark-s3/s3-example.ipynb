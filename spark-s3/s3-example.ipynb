{
 "cells": [
  {
   "cell_type": "code",
   "execution_count": null,
   "metadata": {},
   "outputs": [],
   "source": [
    "%set_env AWS_PROFILE=YOUR-CURRENT-AWS-PROFILE-NAME\n",
    "%set_env AWS_CONFIG_FILE=/home/jovyan/.aws/config\n",
    "%set_env AWS_SHARED_CREDENTIALS_FILE=/home/jovyan/.aws/credentials"
   ]
  },
  {
   "cell_type": "code",
   "execution_count": null,
   "metadata": {},
   "outputs": [],
   "source": [
    "import boto3\n",
    "\n",
    "# First set up a default session explicitly before instantiating s3 client.\n",
    "# The implicit session, when you attempt s3.list_buckets(), does not succeed in\n",
    "# authentication with the above environment variables.\n",
    "session = boto3.session.Session()\n",
    "\n",
    "s3 = boto3.client('s3')\n",
    "response = s3.list_buckets()\n",
    "\n",
    "# Check the existence of the given bucket\n",
    "mybucket='pcdas'\n",
    "found = False\n",
    "print(f'Checking the existence of my bucket {mybucket}:')\n",
    "for bucket in response['Buckets']:\n",
    "    if mybucket == bucket[\"Name\"]:\n",
    "        print(f'  {bucket[\"Name\"]} {bucket[\"CreationDate\"]} {response[\"Owner\"][\"DisplayName\"]}')\n",
    "        found = True\n",
    "        break\n",
    "if not found:\n",
    "    print(f'  {mybucket} is not found.')"
   ]
  },
  {
   "cell_type": "markdown",
   "metadata": {},
   "source": [
    "### Source of population dataset\n",
    " * [United Nations – Dept. of Economic and Social Affairs, population dynamics](https://population.un.org/wpp/Download/Standard/CSV/)\n",
    " \n",
    " ```\n",
    " $ curl \"https://population.un.org/wpp/Download/Files/1_Indicators%20(Standard)/CSV_FILES/WPP2019_TotalPopulationBySex.csv\" > TotalPopulation.csv\n",
    " $ head -1 TotalPopulation.csv\n",
    " LocID,Location,VarID,Variant,Time,MidPeriod,PopMale,PopFemale,PopTotal,PopDensity\n",
    " $ gzip TotalPopulation.csv\n",
    " $ aws s3 cp TotalPopulation.csv.gz s3://<bucket>\n",
    " ```\n",
    " \n",
    "### Filtering S3 CSV file at the storage site using SELECT statement\n",
    " * Note the filter condition in where clause, and the limit clause\n",
    " "
   ]
  },
  {
   "cell_type": "code",
   "execution_count": 18,
   "metadata": {},
   "outputs": [
    {
     "name": "stdout",
     "output_type": "stream",
     "text": [
      "840,United States of America,2,Medium,1950,1950.5,79233.218,79571.179,158804.397,17.361\r\n",
      "840,United States of America,2,Medium,1951,1951.5,80165.741,80706.523,160872.264,17.587\r\n",
      "840,United States of America,2,Medium,1952,1952.5,81281.509,81984.517,163266.026,17.848\r\n",
      "840,United States of America,2,Medium,1953,1953.5,82534.378,83375.618,165909.996,18.137\r\n",
      "840,United States of America,2,Medium,1954,1954.5,83884.153,84852.237,168736.39,18.446\r\n",
      "840,United States of America,2,Medium,1955,1955.5,85296.618,86388.719,171685.337,18.769\r\n",
      "840,United States of America,2,Medium,1956,1956.5,86743.656,87961.35,174705.006,19.099\r\n",
      "840,United States of America,2,Medium,1957,1957.5,88203.12,89548.357,177751.477,19.432\r\n",
      "840,United States of America,2,Medium,1958,1958.5,89658.37,91130.017,180788.387,19.764\r\n",
      "840,United States of America,2,Medium,1959,1959.5,91097.416,92688.833,183786.249,20.092\r\n",
      "840,United States of America,2,Medium,1960,1960.5,92510.602,94209.968,186720.57,20.412\r\n",
      "840,United States of America,2,Medium,1961,1961.5,93888.042,95681.808,189569.85,20.724\r\n",
      "840,United States of America,2,Medium,1962,1962.5,95217.352,97096.395,192313.747,21.024\r\n",
      "840,United States of America,2,Medium,1963,1963.5,96482.777,98449.623,194932.4,21.31\r\n",
      "840,United States of America,2,Medium,1964,1964.5,97667.821,99740.676,197408.497,21.581\r\n",
      "840,United States of America,2,Medium,1965,1965.5,98763.245,100970.434,199733.679,21.835\r\n",
      "840,United States of America,2,Medium,1966,1966.5,99759.41,102136.35,201895.76,22.071\r\n",
      "840,United States of America,2,Medium,1967,1967.5,100664.422,103240.659,203905.081,22.291\r\n",
      "840,United States of America,2,Medium,1968,1968.5,101509.677,104296.079,205805.756,22.499\r\n",
      "840,United States of America,2,Medium,1969,1969.5,102339.103,105320.171,207659.274,22.701\r\n",
      "\n",
      "Stats details bytesScanned: \n",
      "5573693\n",
      "Stats details bytesProcessed: \n",
      "20963403\n"
     ]
    }
   ],
   "source": [
    "r = s3.select_object_content(\n",
    "    Bucket=mybucket,\n",
    "    Key='TotalPopulation.csv.gz',\n",
    "    ExpressionType='SQL',\n",
    "    Expression=\"select * from s3object s where (s.Location like '%United States of America%') limit 20\",\n",
    "    InputSerialization={\n",
    "        'CSV': {\n",
    "            \"FileHeaderInfo\": \"USE\",\n",
    "        },\n",
    "        'CompressionType': 'GZIP',\n",
    "    },\n",
    "    OutputSerialization={'CSV': {}},\n",
    ")\n",
    "\n",
    "\n",
    "for event in r['Payload']:\n",
    "    if 'Records' in event:\n",
    "        records = event['Records']['Payload'].decode('utf-8')\n",
    "        print(records)\n",
    "    elif 'Stats' in event:\n",
    "        statsDetails = event['Stats']['Details']\n",
    "        print(\"Stats details bytesScanned: \")\n",
    "        print(statsDetails['BytesScanned'])\n",
    "        print(\"Stats details bytesProcessed: \")\n",
    "        print(statsDetails['BytesProcessed'])\n"
   ]
  }
 ],
 "metadata": {
  "kernelspec": {
   "display_name": "Python 3",
   "language": "python",
   "name": "python3"
  },
  "language_info": {
   "codemirror_mode": {
    "name": "ipython",
    "version": 3
   },
   "file_extension": ".py",
   "mimetype": "text/x-python",
   "name": "python",
   "nbconvert_exporter": "python",
   "pygments_lexer": "ipython3",
   "version": "3.6.9"
  }
 },
 "nbformat": 4,
 "nbformat_minor": 4
}
